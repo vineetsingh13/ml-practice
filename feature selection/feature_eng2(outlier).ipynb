{
 "cells": [
  {
   "cell_type": "markdown",
   "id": "2dc0cc41-fd2a-4eee-9e84-55f68d9aea24",
   "metadata": {},
   "source": [
    "# 5 number summary and box plot"
   ]
  },
  {
   "cell_type": "code",
   "execution_count": 1,
   "id": "2a4f5d52-008d-4979-8d30-4fb5694e376c",
   "metadata": {},
   "outputs": [],
   "source": [
    "import numpy as np\n",
    "\n",
    "marks=[54,75,84,89,75,75,86,93,54,67,34,87,45,51,95,65,79,87]\n",
    "minimum,Q1,median,Q3,maximum=np.quantile(marks,[0,0.25,0.50,0.75,1.0])"
   ]
  },
  {
   "cell_type": "code",
   "execution_count": 3,
   "id": "6a838256-98fd-4ab5-a8db-e67652988932",
   "metadata": {},
   "outputs": [
    {
     "data": {
      "text/plain": [
       "(34.0, 56.75, 75.0, 86.75, 95.0)"
      ]
     },
     "execution_count": 3,
     "metadata": {},
     "output_type": "execute_result"
    }
   ],
   "source": [
    "minimum,Q1,median,Q3,maximum"
   ]
  },
  {
   "cell_type": "code",
   "execution_count": 5,
   "id": "8e4db66e-f50a-4eb3-ac96-003b3c2cddf5",
   "metadata": {},
   "outputs": [
    {
     "data": {
      "text/plain": [
       "30.0"
      ]
     },
     "execution_count": 5,
     "metadata": {},
     "output_type": "execute_result"
    }
   ],
   "source": [
    "iqr=Q3-Q1\n",
    "iqr"
   ]
  },
  {
   "cell_type": "code",
   "execution_count": 9,
   "id": "8ff13cec-f57d-4bb0-8905-2e7a4a683bfa",
   "metadata": {},
   "outputs": [
    {
     "data": {
      "text/plain": [
       "(11.75, 131.75)"
      ]
     },
     "execution_count": 9,
     "metadata": {},
     "output_type": "execute_result"
    }
   ],
   "source": [
    "##fence values for the outliers\n",
    "\n",
    "lower_fence=Q1-1.5*(iqr)\n",
    "higher_fence=Q3+1.5*(iqr)\n",
    "lower_fence,higher_fence"
   ]
  },
  {
   "cell_type": "code",
   "execution_count": 11,
   "id": "fdc69e87-3016-42e3-beb6-c4485c77d58c",
   "metadata": {},
   "outputs": [
    {
     "data": {
      "text/plain": [
       "<Axes: >"
      ]
     },
     "execution_count": 11,
     "metadata": {},
     "output_type": "execute_result"
    },
    {
     "data": {
      "image/png": "[encoded data removed]",
      "text/plain": [
       "<Figure size 640x480 with 1 Axes>"
      ]
     },
     "metadata": {},
     "output_type": "display_data"
    }
   ],
   "source": [
    "import seaborn as sns\n",
    "\n",
    "sns.boxplot(marks)"
   ]
  },
  {
   "cell_type": "code",
   "execution_count": 19,
   "id": "45a4545a-34a8-422a-b744-a8ac524ec539",
   "metadata": {},
   "outputs": [],
   "source": [
    "marks=[-22,-7,-65,54,75,84,89,75,75,86,93,54,67,34,87,45,51,95,65,79,87,158,149,187]"
   ]
  },
  {
   "cell_type": "code",
   "execution_count": 21,
   "id": "f00a798e-7551-494d-a3f0-acb8b79c961b",
   "metadata": {},
   "outputs": [
    {
     "data": {
      "text/plain": [
       "<Axes: >"
      ]
     },
     "execution_count": 21,
     "metadata": {},
     "output_type": "execute_result"
    },
    {
     "data": {
      "image/png": "[encoded data removed]",
      "text/plain": [
       "<Figure size 640x480 with 1 Axes>"
      ]
     },
     "metadata": {},
     "output_type": "display_data"
    }
   ],
   "source": [
    "import seaborn as sns\n",
    "\n",
    "sns.boxplot(marks)"
   ]
  },
  {
   "cell_type": "code",
   "execution_count": null,
   "id": "93ae3ed8-20b6-4b91-b5de-78dd75f3d669",
   "metadata": {},
   "outputs": [],
   "source": []
  }
 ],
 "metadata": {
  "kernelspec": {
   "display_name": "Python 3 (ipykernel)",
   "language": "python",
   "name": "python3"
  },
  "language_info": {
   "codemirror_mode": {
    "name": "ipython",
    "version": 3
   },
   "file_extension": ".py",
   "mimetype": "text/x-python",
   "name": "python",
   "nbconvert_exporter": "python",
   "pygments_lexer": "ipython3",
   "version": "3.12.4"
  }
 },
 "nbformat": 4,
 "nbformat_minor": 5
}
